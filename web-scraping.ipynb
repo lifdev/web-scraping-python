{
 "cells": [
  {
   "cell_type": "code",
   "execution_count": 2,
   "id": "e8fc30fd-a0f5-4971-99e0-b8afea13d6e8",
   "metadata": {},
   "outputs": [],
   "source": [
    "import requests\n",
    "from bs4 import BeautifulSoup\n",
    "import csv\n",
    "\n",
    "url = \"https://satudata.kemenag.go.id/dataset/detail/perkembangan-jumlah-pns-kementerian-agama\"\n",
    "\n",
    "page = requests.get(url)\n",
    "content = page.text\n",
    "\n",
    "#print(content)\n",
    "\n",
    "bs4 = BeautifulSoup(content, 'html.parser')\n",
    "\n",
    "tablepns = bs4.find('table', id = 'tabledata')\n",
    "\n",
    "list_tr = tablepns.find_all('tr')\n",
    "\n",
    "headers = ['unit_kerja', 'jumlah', 'tahun']\n",
    "\n",
    "writer = csv.writer(open('data.csv','w', newline=''))\n",
    "\n",
    "writer.writerow(headers)\n",
    "\n",
    "for tr in list_tr:\n",
    "    data = [] \n",
    "    list_td=tr.find_all('td')\n",
    "    for td in list_td:\n",
    "        data.append(td.text)\n",
    "    writer.writerow(data)"
   ]
  },
  {
   "cell_type": "code",
   "execution_count": null,
   "id": "eb80355a-3f3d-4a5c-983c-22bdfee984af",
   "metadata": {},
   "outputs": [],
   "source": []
  }
 ],
 "metadata": {
  "kernelspec": {
   "display_name": "Python 3 (ipykernel)",
   "language": "python",
   "name": "python3"
  },
  "language_info": {
   "codemirror_mode": {
    "name": "ipython",
    "version": 3
   },
   "file_extension": ".py",
   "mimetype": "text/x-python",
   "name": "python",
   "nbconvert_exporter": "python",
   "pygments_lexer": "ipython3",
   "version": "3.11.7"
  }
 },
 "nbformat": 4,
 "nbformat_minor": 5
}
